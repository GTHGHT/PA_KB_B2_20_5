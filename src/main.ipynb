{
 "cells": [
  {
   "cell_type": "markdown",
   "source": [
    "### Import Module"
   ],
   "metadata": {
    "collapsed": false
   }
  },
  {
   "cell_type": "code",
   "execution_count": 12,
   "metadata": {
    "collapsed": true
   },
   "outputs": [],
   "source": [
    "import tensorflow as tf\n",
    "from keras.models import Sequential\n",
    "from keras.layers import Activation, Dropout, Flatten, Dense, Conv2D, MaxPooling2D"
   ]
  },
  {
   "cell_type": "markdown",
   "source": [
    "### Extract image"
   ],
   "metadata": {
    "collapsed": false
   }
  },
  {
   "cell_type": "code",
   "execution_count": 13,
   "outputs": [],
   "source": [
    "image_shape = (128, 128, 1)\n",
    "batch_size = 128"
   ],
   "metadata": {
    "collapsed": false
   }
  },
  {
   "cell_type": "code",
   "execution_count": 14,
   "outputs": [
    {
     "name": "stdout",
     "output_type": "stream",
     "text": [
      "Found 4855 files belonging to 7 classes.\n",
      "Using 3884 files for training.\n",
      "Found 4855 files belonging to 7 classes.\n",
      "Using 971 files for validation.\n"
     ]
    }
   ],
   "source": [
    "train_img = tf.keras.utils.image_dataset_from_directory(\n",
    "    r'D:\\Project\\Python\\PA_KB_B2_20_5\\datasets\\train',\n",
    "    batch_size=batch_size,\n",
    "    validation_split=0.2,\n",
    "    image_size=image_shape[:-1],\n",
    "    seed=1,\n",
    "    subset='training'\n",
    ")\n",
    "validation_img = tf.keras.utils.image_dataset_from_directory(\n",
    "    r'D:\\Project\\Python\\PA_KB_B2_20_5\\datasets\\train',\n",
    "    batch_size=batch_size,\n",
    "    validation_split=0.2,\n",
    "    image_size=image_shape[:-1],\n",
    "    seed=1,\n",
    "    subset='validation'\n",
    ")"
   ],
   "metadata": {
    "collapsed": false
   }
  },
  {
   "cell_type": "code",
   "execution_count": 15,
   "outputs": [
    {
     "name": "stdout",
     "output_type": "stream",
     "text": [
      "Found 1210 files belonging to 7 classes.\n"
     ]
    }
   ],
   "source": [
    "test_img = tf.keras.utils.image_dataset_from_directory(\n",
    "    r'D:\\Project\\Python\\PA_KB_B2_20_5\\datasets\\test',\n",
    "    batch_size=batch_size,\n",
    "    image_size=image_shape[:-1],\n",
    ")"
   ],
   "metadata": {
    "collapsed": false
   }
  },
  {
   "cell_type": "markdown",
   "source": [
    "### Transforms Image"
   ],
   "metadata": {
    "collapsed": false
   }
  },
  {
   "cell_type": "code",
   "execution_count": 16,
   "outputs": [],
   "source": [
    "def normalize_img(image, label):\n",
    "    return tf.cast(image, tf.float32)/255 , label\n",
    "\n",
    "train_img = train_img.map(normalize_img, num_parallel_calls=tf.data.AUTOTUNE)\n",
    "train_img = train_img.cache()\n",
    "train_img = train_img.batch(batch_size)\n",
    "train_img = train_img.prefetch(tf.data.AUTOTUNE)\n",
    "\n",
    "validation_img = validation_img.map(normalize_img, num_parallel_calls=tf.data.AUTOTUNE)\n",
    "validation_img = validation_img.cache()\n",
    "validation_img = validation_img.batch(batch_size)\n",
    "validation_img = validation_img.prefetch(tf.data.AUTOTUNE)\n",
    "\n",
    "test_img = test_img.map(normalize_img, num_parallel_calls=tf.data.AUTOTUNE)\n",
    "test_img = test_img.cache()\n",
    "test_img = test_img.batch(batch_size)\n",
    "test_img = test_img.prefetch(tf.data.AUTOTUNE)"
   ],
   "metadata": {
    "collapsed": false
   }
  },
  {
   "cell_type": "code",
   "execution_count": 16,
   "outputs": [],
   "source": [],
   "metadata": {
    "collapsed": false
   }
  }
 ],
 "metadata": {
  "kernelspec": {
   "display_name": "Python 3",
   "language": "python",
   "name": "python3"
  },
  "language_info": {
   "codemirror_mode": {
    "name": "ipython",
    "version": 2
   },
   "file_extension": ".py",
   "mimetype": "text/x-python",
   "name": "python",
   "nbconvert_exporter": "python",
   "pygments_lexer": "ipython2",
   "version": "2.7.6"
  }
 },
 "nbformat": 4,
 "nbformat_minor": 0
}
