{
 "cells": [
  {
   "cell_type": "code",
   "execution_count": 1,
   "metadata": {
    "collapsed": true
   },
   "outputs": [],
   "source": [
    "source_path = r'D:\\Project\\Python\\PA_KB_B2_20_5\\src\\data_collecting\\Coupe'"
   ]
  },
  {
   "cell_type": "code",
   "execution_count": 2,
   "outputs": [],
   "source": [
    "import os\n",
    "from pathlib import Path"
   ],
   "metadata": {
    "collapsed": false
   }
  },
  {
   "cell_type": "code",
   "execution_count": 3,
   "outputs": [],
   "source": [
    "datasets_walker = os.walk(source_path)\n",
    "\n",
    "labels_list = next(datasets_walker)[1]\n",
    "\n",
    "for i in range(len(labels_list)):\n",
    "    dir_, folders_, files_ = next(datasets_walker)\n",
    "    for file in files_:\n",
    "        Path(f'{dir_}\\\\{file}').rename(fr\"{source_path}{dir_.replace(f'{source_path}','')}-{file}\")\n",
    "    os.rmdir(dir_)"
   ],
   "metadata": {
    "collapsed": false
   }
  },
  {
   "cell_type": "code",
   "execution_count": 3,
   "outputs": [],
   "source": [],
   "metadata": {
    "collapsed": false
   }
  }
 ],
 "metadata": {
  "kernelspec": {
   "display_name": "Python 3",
   "language": "python",
   "name": "python3"
  },
  "language_info": {
   "codemirror_mode": {
    "name": "ipython",
    "version": 2
   },
   "file_extension": ".py",
   "mimetype": "text/x-python",
   "name": "python",
   "nbconvert_exporter": "python",
   "pygments_lexer": "ipython2",
   "version": "2.7.6"
  }
 },
 "nbformat": 4,
 "nbformat_minor": 0
}
